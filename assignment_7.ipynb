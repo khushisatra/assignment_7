{
 "cells": [
  {
   "cell_type": "code",
   "execution_count": 1,
   "metadata": {},
   "outputs": [],
   "source": [
    "import pandas as pd\n",
    "import dash\n",
    "from dash import dcc, html\n",
    "import plotly.express as px"
   ]
  },
  {
   "cell_type": "code",
   "execution_count": null,
   "metadata": {},
   "outputs": [],
   "source": [
    "#Dataset\n",
    "\n",
    "fifa_df = pd.DataFrame({\n",
    "    \"Year\": [1930,1934,1938,1950,1954,1958,1962,1966,1970,1974,1978,1982,1986,1990,1994,1998,2002,2006,2010,2014,2018,2022],\n",
    "    \"Winners\": [\"Uruguay\",\"Italy\",\"Italy\",\"Uruguay\",\"West Germany\",\"Brazil\",\"Brazil\",\"England\",\"Brazil\",\"West Germany\",\"Argentina\",\"Italy\",\"Argentina\",\"West Germany\",\"Brazil\",\"France\",\"Brazil\",\"Italy\",\"Spain\",\"Germany\",\"France\",\"Argentina\"],\n",
    "    \"Runners-up\":[\"Argentina\",\"Czechoslovakia\",\"Hungary\",\"Brazil\",\"Hungary\",\"Sweden\",\"Czechoslovakia\",\"West Germany\",\"Italy\",\"Netherlands\",\"Netherlands\",\"West Germany\",\"West Germany\",\"Argentina\",\"Italy\",\"Brazil\",\"Germany\",\"France\",\"Netherlands\",\"Argentina\",\"Croatia\",\"France\"]\n",
    "})\n",
    "\n",
    "fifa_df.replace({\n",
    "          'Winners': {'West Germany': 'Germany'}, \n",
    "          'Runners-up': {'West Germany': 'Germany'}\n",
    "        }, \n",
    "      inplace=True\n",
    "    )"
   ]
  },
  {
   "cell_type": "code",
   "execution_count": null,
   "metadata": {},
   "outputs": [],
   "source": [
    "winner_counts = fifa_df[\"Winners\"].value_counts().reset_index()\n",
    "winner_counts.columns = [\"Country\", \"Wins\"]\n",
    "\n",
    "fig = px.choropleth(\n",
    "    winner_counts, \n",
    "    locations='Country', \n",
    "    locationmode='country names',\n",
    "    color='Wins',\n",
    "    title='World Cup Wins by Country',\n",
    "    color_continuous_scale=px.colors.sequential.Plasma\n",
    ")\n",
    "\n",
    "app = dash.Dash()\n",
    "\n",
    "default_year = fifa_df['Year'][0]\n",
    "default_country = winner_counts[\"Country\"][0]\n",
    "\n",
    "app.layout = html.Div([\n",
    "    html.H1(\"FIFA World Cup Winners Dashboard\",  style={'textAlign': 'center', 'fontSize': 40}),\n",
    "    dcc.Graph(id='world-map'),\n",
    "    \n",
    "    html.P(\"Select a Country:\", style={'fontSize': 20, \"font-weight\": \"bold\"}),\n",
    "    dcc.Dropdown(\n",
    "        id='country-list',\n",
    "        options=[{'label': c, 'value': c} for c in winner_counts['Country']],\n",
    "        value=default_country,\n",
    "        clearable=False\n",
    "    ),\n",
    "    html.Div(id='total-wins', style={'textAlign': 'center'}),\n",
    "    \n",
    "    html.P(\"Select a Year:\", style={'fontSize': 20}),\n",
    "    dcc.Dropdown(\n",
    "        id='year-list',\n",
    "        options=[{'label': y, 'value': y} for y in df['Year']],\n",
    "        value=default_year,\n",
    "        clearable=False\n",
    "    ),\n",
    "    html.Div(id='yearly-result', style={'textAlign': 'center'})\n",
    "])\n",
    "\n",
    "\n",
    "app.run(debug=True)"
   ]
  }
 ],
 "metadata": {
  "kernelspec": {
   "display_name": "Python 3",
   "language": "python",
   "name": "python3"
  },
  "language_info": {
   "codemirror_mode": {
    "name": "ipython",
    "version": 3
   },
   "file_extension": ".py",
   "mimetype": "text/x-python",
   "name": "python",
   "nbconvert_exporter": "python",
   "pygments_lexer": "ipython3",
   "version": "3.11.0"
  }
 },
 "nbformat": 4,
 "nbformat_minor": 2
}
